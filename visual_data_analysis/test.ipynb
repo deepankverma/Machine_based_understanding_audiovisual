{
 "cells": [
  {
   "cell_type": "code",
   "execution_count": 31,
   "metadata": {},
   "outputs": [],
   "source": [
    "detect = [('tv', 1), ('person', 11), ('cat', 10)]\n",
    "detect1 = [(0.5309803377712031, 'person'), (0.18755393244575938, 'floor'),\n",
    "           (0.12995022805719922, 'waterfall'), (0.08965883875739646, 'fountain'), (0.060774161735700195, 'wall'), (0.0010825012327416175, 'escalator')]\n",
    "\n",
    "\n",
    "detect2 = [(1.0,'person')]\n",
    "\n",
    "detect3 = [(0.6905606662968442, 'tree'), (0.11470853365384616, 'sky'), (0.03205128205128205, 'sidewalk'), (0.03191645093688363, 'building'), (0.03056428747534517, 'road'), (0.028952092578895465, 'person'), (0.028828818417159764, 'earth'), (0.01874345106015779, 'wall'), (0.008804471770216963, 'plant'), (0.005391318417159763, 'signboard'), \n",
    " (0.004855846277120316, 'fence'), (0.0046208549063116375, 'floor'), (1.9261587771203157e-06, 'bannister')]"
   ]
  },
  {
   "cell_type": "code",
   "execution_count": 26,
   "metadata": {},
   "outputs": [
    {
     "data": {
      "text/plain": [
       "int"
      ]
     },
     "execution_count": 26,
     "metadata": {},
     "output_type": "execute_result"
    }
   ],
   "source": [
    "type(detect[0][1])"
   ]
  },
  {
   "cell_type": "code",
   "execution_count": 27,
   "metadata": {},
   "outputs": [
    {
     "name": "stdout",
     "output_type": "stream",
     "text": [
      "0.4329004329004329\n"
     ]
    },
    {
     "data": {
      "text/plain": [
       "0.5670995670995671"
      ]
     },
     "execution_count": 27,
     "metadata": {},
     "output_type": "execute_result"
    }
   ],
   "source": [
    "def diversity(lists):\n",
    "    sum1 = 0\n",
    "    sum2 = 0\n",
    "\n",
    "    for each in lists:\n",
    "        if type(each[1]) == int :\n",
    "            sum1 = sum1 +  (each[1] * (each[1] -1))\n",
    "            sum2 = sum2 + each[1]\n",
    "        elif type(each[1]) == str:\n",
    "            print(\"yes\")\n",
    "            sum1 = sum1 +  (each[0] * (each[0] -1))\n",
    "            sum2 = sum2 + each[0]\n",
    "            \n",
    "    if sum2 * (sum2-1) == 0:\n",
    "        diverse = 1\n",
    "    else:\n",
    "        diverse = sum1/(sum2 * (sum2-1))\n",
    "    print(diverse)\n",
    "    return (1 - diverse)\n",
    "\n",
    "diversity(detect)"
   ]
  },
  {
   "cell_type": "code",
   "execution_count": 29,
   "metadata": {},
   "outputs": [
    {
     "data": {
      "text/plain": [
       "(-0.0, 1.0)"
      ]
     },
     "execution_count": 29,
     "metadata": {},
     "output_type": "execute_result"
    }
   ],
   "source": [
    "import math\n",
    "def entropy(lists):\n",
    "    sum1 = 0\n",
    "    sum2 = 0\n",
    "    l = len(lists)\n",
    "    for each in lists:\n",
    "        sum1 = (sum1 + each[0]*math.log(each[0])) #entropy\n",
    "        sum2 = sum2 + math.pow((100*each[0]),2)  ##hhi \n",
    "\n",
    "    \n",
    "    if l > 1:\n",
    "        ent = sum1/math.log(l)\n",
    "    else:\n",
    "        ent = sum1/1\n",
    "    \n",
    "    hhi = sum2/10000\n",
    "\n",
    "    return -ent,hhi\n",
    "\n",
    "entropy(detect2)\n",
    "    "
   ]
  },
  {
   "cell_type": "code",
   "execution_count": 8,
   "metadata": {},
   "outputs": [
    {
     "data": {
      "text/plain": [
       "0.34573703635852826"
      ]
     },
     "execution_count": 8,
     "metadata": {},
     "output_type": "execute_result"
    }
   ],
   "source": [
    "def hhi(lists):\n",
    "    sum1 = 0\n",
    "    for each in lists:\n",
    "        sum1 = sum1 + math.pow((100*each[0]),2)\n",
    "        \n",
    "    z = sum1/10000\n",
    "    return z\n",
    "\n",
    "hhi(detect1)"
   ]
  },
  {
   "cell_type": "code",
   "execution_count": 34,
   "metadata": {},
   "outputs": [
    {
     "data": {
      "text/plain": [
       "(0.8429024901380671, 0.11470853365384616, 0.6993651380670611)"
      ]
     },
     "execution_count": 34,
     "metadata": {},
     "output_type": "execute_result"
    }
   ],
   "source": [
    "###percentage of natural vs man made.\n",
    "\n",
    "\n",
    "\n",
    "\n",
    "\n",
    "def nature(lists):\n",
    "    natural = ['sky','tree','grass','earth','mountain','plant','water','sea','sand','river'\n",
    "          'flower','dirt track','land','waterfall','animal','lake'] \n",
    "    sky = ['sky']\n",
    "    green = ['tree','grass','plant','land']\n",
    "    # \"person\" is not included.\n",
    "    natureperc = 0\n",
    "    skyperc = 0\n",
    "    greenperc = 0\n",
    "    for each in lists:\n",
    "        if each[1] in natural:\n",
    "            natureperc+= each[0]\n",
    "        if each[1] in sky:\n",
    "            skyperc+= each[0]\n",
    "        if each[1] in green:\n",
    "            greenperc+= each[0]\n",
    "    return natureperc, skyperc, greenperc\n",
    "    \n",
    "nature(detect3)\n",
    "            "
   ]
  },
  {
   "cell_type": "code",
   "execution_count": null,
   "metadata": {},
   "outputs": [],
   "source": []
  }
 ],
 "metadata": {
  "kernelspec": {
   "display_name": "Python 3",
   "language": "python",
   "name": "python3"
  },
  "language_info": {
   "codemirror_mode": {
    "name": "ipython",
    "version": 3
   },
   "file_extension": ".py",
   "mimetype": "text/x-python",
   "name": "python",
   "nbconvert_exporter": "python",
   "pygments_lexer": "ipython3",
   "version": "3.5.3"
  }
 },
 "nbformat": 4,
 "nbformat_minor": 2
}
