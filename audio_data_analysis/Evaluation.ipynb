{
 "cells": [
  {
   "cell_type": "code",
   "execution_count": 1,
   "metadata": {},
   "outputs": [
    {
     "name": "stderr",
     "output_type": "stream",
     "text": [
      "/home/deepank/anaconda3/envs/tensorflow/lib/python3.6/site-packages/h5py/__init__.py:36: FutureWarning: Conversion of the second argument of issubdtype from `float` to `np.floating` is deprecated. In future, it will be treated as `np.float64 == np.dtype(float).type`.\n",
      "  from ._conv import register_converters as _register_converters\n",
      "Using TensorFlow backend.\n"
     ]
    }
   ],
   "source": [
    "%matplotlib inline\n",
    "import matplotlib.pyplot as plt\n",
    "import os\n",
    "os.environ['CUDA_VISIBLE_DEVICES'] = ''\n",
    "plt.rcParams['figure.figsize'] = (12,8)\n",
    "import numpy as np\n",
    "import tensorflow as tf\n",
    "import keras\n",
    "import pandas as pd"
   ]
  },
  {
   "cell_type": "code",
   "execution_count": 2,
   "metadata": {},
   "outputs": [
    {
     "data": {
      "text/plain": [
       "'-0CamVQdP_Y'"
      ]
     },
     "execution_count": 2,
     "metadata": {},
     "output_type": "execute_result"
    }
   ],
   "source": [
    "t = list(tf.python_io.tf_record_iterator('Data/eval_subset_latest_4.tfrecord'))\n",
    "tf_example = tf.train.Example.FromString(t[0])\n",
    "tf_example.features.feature['video_id'].bytes_list.value[0].decode()"
   ]
  },
  {
   "cell_type": "code",
   "execution_count": 3,
   "metadata": {},
   "outputs": [
    {
     "data": {
      "text/plain": [
       "1010"
      ]
     },
     "execution_count": 3,
     "metadata": {},
     "output_type": "execute_result"
    }
   ],
   "source": [
    "len(t)"
   ]
  },
  {
   "cell_type": "code",
   "execution_count": 4,
   "metadata": {},
   "outputs": [],
   "source": [
    "from keras.preprocessing.sequence import pad_sequences\n",
    "\n",
    "def data_generator(batch_size, tfrecord):\n",
    "    '''\n",
    "    Shuffles the Audioset training data and returns a generator of training data and boolean laughter labels\n",
    "    batch_size: batch size for each set of training data and labels\n",
    "    tfrecord: filestring of the tfrecord file to train on\n",
    "    start_frac: the starting point of the data set to use, as a fraction of total record length (used for CV)\n",
    "    end_frac: the ending point of the data set to use, as a fraction of total record length (used for CV)\n",
    "    '''\n",
    "    max_len=10\n",
    "    records = list(tf.python_io.tf_record_iterator(tfrecord))\n",
    "    rec_len = len(records)\n",
    "    print('rec_len',rec_len)\n",
    "    shuffle = np.random.permutation(range(rec_len))\n",
    "    num_batches = rec_len//batch_size\n",
    "#     print('num_batches',num_batches)\n",
    "    j = 0\n",
    "\n",
    "    subset_labels = [4,13,53,69,70,71,112,113,318,326,327,344,348,351,352,500]\n",
    "    ## merging classes to create 5 major classes\n",
    "    crowd =  [4, 13, 53, 69, 70, 71]\n",
    "    birds = [112, 113]\n",
    "    vehicles_passing = [318,326,344,348,351,352]\n",
    "    ambient_traffic = [327]\n",
    "    silence = [500]\n",
    "    \n",
    "    while True:\n",
    "        X = []\n",
    "        y = []\n",
    "        \n",
    "        for idx in shuffle[j*batch_size:(j+1)*batch_size]:\n",
    "            example = records[idx]\n",
    "            tf_seq_example = tf.train.SequenceExample.FromString(example)\n",
    "            example_label = list(np.asarray(tf_seq_example.context.feature['labels'].int64_list.value))\n",
    "    \n",
    "            label_no = next(x for x in example_label if x in subset_labels)\n",
    "\n",
    "            if label_no in crowd:\n",
    "                y.append(0)\n",
    "            if label_no in birds:\n",
    "                y.append(1)\n",
    "            if label_no in vehicles_passing:\n",
    "                y.append(2)\n",
    "            if label_no in ambient_traffic:\n",
    "                y.append(3)\n",
    "            if label_no in silence:\n",
    "                y.append(4)\n",
    "\n",
    "            n_frames = len(tf_seq_example.feature_lists.feature_list['audio_embedding'].feature)\n",
    "#             print('n_frames',n_frames)\n",
    "            audio_frame = []\n",
    "            for i in range(n_frames):\n",
    "                audio_frame.append(np.frombuffer(tf_seq_example.feature_lists.feature_list['audio_embedding'].\n",
    "                                                         feature[i].bytes_list.value[0],np.uint8).astype(np.float32))\n",
    "            pad = [np.zeros([128], np.float32) for i in range(max_len-n_frames)]\n",
    "#             print('pad', pad)\n",
    "            audio_frame += pad\n",
    "#             print('audio_frame', audio_frame)\n",
    "            X.append(audio_frame)\n",
    "\n",
    "        j += 1\n",
    "        if j >= num_batches:\n",
    "            shuffle = np.random.permutation(range(rec_len))\n",
    "            j = 0\n",
    "\n",
    "        X = np.array(X)\n",
    "#         print(\"****************************************************************************\")\n",
    "#         print(X.shape,len(y))\n",
    "        yield X, np.array(y)"
   ]
  },
  {
   "cell_type": "code",
   "execution_count": 5,
   "metadata": {},
   "outputs": [
    {
     "name": "stdout",
     "output_type": "stream",
     "text": [
      "rec_len 1010\n"
     ]
    }
   ],
   "source": [
    "import itertools\n",
    "batch_size = 1\n",
    "val_gen = data_generator(batch_size,'Data/eval_subset_latest_4.tfrecord')\n",
    "\n",
    "val = list(itertools.islice(val_gen,1009//1))\n",
    "# print(val)\n",
    "X = [d[0] for d in val]\n",
    "y = [d[1] for d in val]\n",
    "X = np.concatenate(X)\n",
    "y = np.concatenate(y)"
   ]
  },
  {
   "cell_type": "code",
   "execution_count": 6,
   "metadata": {},
   "outputs": [],
   "source": [
    "from keras.models import load_model\n",
    "m1 = load_model('Data/Trained_model_LSTM_2.h5')"
   ]
  },
  {
   "cell_type": "code",
   "execution_count": 7,
   "metadata": {},
   "outputs": [],
   "source": [
    "p1 = m1.predict(X)"
   ]
  },
  {
   "cell_type": "code",
   "execution_count": 8,
   "metadata": {},
   "outputs": [
    {
     "name": "stdout",
     "output_type": "stream",
     "text": [
      "(1009, 5)\n"
     ]
    }
   ],
   "source": [
    "print(p1.shape)"
   ]
  },
  {
   "cell_type": "code",
   "execution_count": 9,
   "metadata": {},
   "outputs": [],
   "source": [
    "y_pred = [np.argmax(p) for p in p1]"
   ]
  },
  {
   "cell_type": "code",
   "execution_count": 11,
   "metadata": {},
   "outputs": [
    {
     "name": "stdout",
     "output_type": "stream",
     "text": [
      "             precision    recall  f1-score   support\n",
      "\n",
      "          0       0.88      0.82      0.85       402\n",
      "          1       0.63      0.86      0.73       124\n",
      "          2       0.88      0.91      0.89       330\n",
      "          3       0.86      0.95      0.90        58\n",
      "          4       0.86      0.53      0.65        95\n",
      "\n",
      "avg / total       0.84      0.83      0.83      1009\n",
      "\n"
     ]
    }
   ],
   "source": [
    "from sklearn import metrics\n",
    "print(metrics.classification_report(y_pred, y))"
   ]
  },
  {
   "cell_type": "code",
   "execution_count": 12,
   "metadata": {},
   "outputs": [
    {
     "name": "stdout",
     "output_type": "stream",
     "text": [
      "0 377\n",
      "1 169\n",
      "2 341\n",
      "3 64\n",
      "4 58\n",
      "[[331   9  13   0  24]\n",
      " [ 39 107  11   0  12]\n",
      " [ 25   6 299   3   8]\n",
      " [  2   1   5  55   1]\n",
      " [  5   1   2   0  50]]\n",
      "[0.87798408 0.63313609 0.87683284 0.859375   0.86206897]\n",
      "0.8218793979294429\n"
     ]
    }
   ],
   "source": [
    "from sklearn.metrics import classification_report, confusion_matrix\n",
    "for ix in range(5):\n",
    "    print(ix, confusion_matrix(y,y_pred)[ix].sum())\n",
    "cm = confusion_matrix(y,y_pred)\n",
    "print(cm)\n",
    "cm_acc = cm.diagonal()/cm.sum(axis=1)\n",
    "cm_acc_sum = np.sum(cm_acc)\n",
    "print(cm_acc)\n",
    "print(cm_acc_sum/5)"
   ]
  },
  {
   "cell_type": "code",
   "execution_count": 13,
   "metadata": {},
   "outputs": [
    {
     "data": {
      "image/png": "[encoded data removed]",
      "text/plain": [
       "<Figure size 288x288 with 1 Axes>"
      ]
     },
     "metadata": {},
     "output_type": "display_data"
    }
   ],
   "source": [
    "import seaborn as sn\n",
    "import pandas as pd\n",
    "\n",
    "cols = ['Crowd', 'Birds', 'Vehicle_Passing', 'Ambient_Traffic', 'Silence']\n",
    "rws = ['Crowd', 'Birds', 'Vehicle_Passing', 'Ambient_Traffic', 'Silence']\n",
    "\n",
    "df_cm = pd.DataFrame(cm, columns = cols, index = rws)\n",
    "plt.figure(figsize = (4,4))\n",
    "sn.set(font_scale=1.25)#for label size\n",
    "# sn.set_style(\"ticks\", {\"xtick.major.size\": 8, \"ytick.major.size\": 8})\n",
    "# sn.set_style({'axes.axisbelow': False})\n",
    "sn.heatmap(df_cm.astype(int), annot=True,annot_kws={\"size\": 18}, fmt='g', cmap = \"Oranges\", cbar = False)# font size\n",
    "plt.show()"
   ]
  },
  {
   "cell_type": "code",
   "execution_count": 14,
   "metadata": {},
   "outputs": [
    {
     "name": "stdout",
     "output_type": "stream",
     "text": [
      "0.8344895936570862 0.7672028504363659\n"
     ]
    }
   ],
   "source": [
    "import numpy as np\n",
    "from sklearn.metrics import accuracy_score, cohen_kappa_score\n",
    "\n",
    "a = accuracy_score(y, y_pred)\n",
    "b = cohen_kappa_score(y, y_pred)\n",
    "print(a,b)"
   ]
  }
 ],
 "metadata": {
  "kernelspec": {
   "display_name": "Python 3",
   "language": "python",
   "name": "python3"
  },
  "language_info": {
   "codemirror_mode": {
    "name": "ipython",
    "version": 3
   },
   "file_extension": ".py",
   "mimetype": "text/x-python",
   "name": "python",
   "nbconvert_exporter": "python",
   "pygments_lexer": "ipython3",
   "version": "3.6.7"
  }
 },
 "nbformat": 4,
 "nbformat_minor": 2
}
