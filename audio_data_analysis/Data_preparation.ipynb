{
 "cells": [
  {
   "cell_type": "code",
   "execution_count": 1,
   "metadata": {},
   "outputs": [
    {
     "name": "stderr",
     "output_type": "stream",
     "text": [
      "/home/deepank/anaconda3/envs/tensorflow/lib/python3.6/site-packages/h5py/__init__.py:36: FutureWarning: Conversion of the second argument of issubdtype from `float` to `np.floating` is deprecated. In future, it will be treated as `np.float64 == np.dtype(float).type`.\n",
      "  from ._conv import register_converters as _register_converters\n"
     ]
    }
   ],
   "source": [
    "### Notebook to create subset of Audioset data. \n",
    "### Download unbalanced_train_segments.csv,  eval_segments.csv from https://research.google.com/audioset/download.html and copy in Data folder.\n",
    "\n",
    "\n",
    "%matplotlib inline\n",
    "import matplotlib.pyplot as plt\n",
    "import numpy as np\n",
    "import tensorflow as tf\n",
    "import pandas as pd\n",
    "import glob"
   ]
  },
  {
   "cell_type": "code",
   "execution_count": 12,
   "metadata": {},
   "outputs": [
    {
     "name": "stdout",
     "output_type": "stream",
     "text": [
      "        # YTID  start_seconds  end_seconds  \\\n",
      "0  ---1_cCGK4M            0.0         10.0   \n",
      "1  ---2_BBVHAA           30.0         40.0   \n",
      "2  ---B_v8ZoBY           30.0         40.0   \n",
      "3  ---EDNidJUA           30.0         40.0   \n",
      "4  ---N4cFAE1A           21.0         31.0   \n",
      "5  ---fcVQUf3E           30.0         40.0   \n",
      "6  ---g9OGAhwc           30.0         40.0   \n",
      "7  ---lTs1dxhU           30.0         40.0   \n",
      "8  ---mO--kRQk           30.0         40.0   \n",
      "9  ---qub7uxgs           30.0         40.0   \n",
      "\n",
      "                                     positive_labels  \n",
      "0  /m/01g50p,/m/0284vy3,/m/06d_3,/m/07jdr,/m/07rwm0c  \n",
      "1                                           /m/09x0r  \n",
      "2                                           /m/04rlf  \n",
      "3              /m/02qldy,/m/02zsn,/m/05zppz,/m/09x0r  \n",
      "4                                  /m/04rlf,/m/09x0r  \n",
      "5                                  /m/019jd,/m/07yv9  \n",
      "6                                  /m/04rlf,/m/0c1dj  \n",
      "7              /m/012f08,/m/07yv9,/m/0k4j,/t/dd00134  \n",
      "8                                           /m/04rlf  \n",
      "9                                           /m/09x0r  \n"
     ]
    }
   ],
   "source": [
    "labels = pd.read_csv('Data/unbalanced_train_segments.csv',header=2, quotechar=r'\"',skipinitialspace=True)\n",
    "print(labels[:10])"
   ]
  },
  {
   "cell_type": "code",
   "execution_count": 13,
   "metadata": {},
   "outputs": [
    {
     "name": "stdout",
     "output_type": "stream",
     "text": [
      "    num       label                              description\n",
      "0     4   /m/01h8n0                             Conversation\n",
      "1    13  /t/dd00135                        Children shouting\n",
      "2    53  /m/07pbtc8                          Walk, footsteps\n",
      "3    69   /m/03qtwd                                    Crowd\n",
      "4    70  /m/07qfr4h      Hubbub, speech noise, speech babble\n",
      "5    71  /t/dd00013                         Children playing\n",
      "6   112   /m/020bb7  Bird vocalization, bird call, bird song\n",
      "7   113  /m/07pggtn                             Chirp, tweet\n",
      "8   318   /m/05x_td                     Air horn, truck horn\n",
      "9   326    /m/04_sv                               Motorcycle\n",
      "10  327    /m/0btp2             Traffic noise, roadway noise\n",
      "11  344  /t/dd00065            Light engine (high frequency)\n",
      "12  348  /t/dd00066            Medium engine (mid frequency)\n",
      "13  351  /t/dd00130                          Engine starting\n",
      "14  352  /m/07pb8fc                                   Idling\n",
      "15  500   /m/028v0c                                  Silence\n",
      "/m/01h8n0|/t/dd00135|/m/07pbtc8|/m/03qtwd|/m/07qfr4h|/t/dd00013|/m/020bb7|/m/07pggtn|/m/05x_td|/m/04_sv|/m/0btp2|/t/dd00065|/t/dd00066|/t/dd00130|/m/07pb8fc|/m/028v0c\n",
      "0          False\n",
      "1          False\n",
      "2          False\n",
      "3          False\n",
      "4          False\n",
      "5          False\n",
      "6          False\n",
      "7          False\n",
      "8          False\n",
      "9          False\n",
      "10         False\n",
      "11         False\n",
      "12         False\n",
      "13         False\n",
      "14         False\n",
      "15         False\n",
      "16         False\n",
      "17         False\n",
      "18         False\n",
      "19         False\n",
      "20         False\n",
      "21         False\n",
      "22         False\n",
      "23         False\n",
      "24         False\n",
      "25         False\n",
      "26         False\n",
      "27         False\n",
      "28         False\n",
      "29         False\n",
      "           ...  \n",
      "2041759    False\n",
      "2041760    False\n",
      "2041761    False\n",
      "2041762    False\n",
      "2041763    False\n",
      "2041764     True\n",
      "2041765    False\n",
      "2041766    False\n",
      "2041767    False\n",
      "2041768    False\n",
      "2041769    False\n",
      "2041770    False\n",
      "2041771    False\n",
      "2041772    False\n",
      "2041773    False\n",
      "2041774    False\n",
      "2041775    False\n",
      "2041776    False\n",
      "2041777    False\n",
      "2041778    False\n",
      "2041779    False\n",
      "2041780    False\n",
      "2041781    False\n",
      "2041782    False\n",
      "2041783    False\n",
      "2041784    False\n",
      "2041785    False\n",
      "2041786    False\n",
      "2041787    False\n",
      "2041788    False\n",
      "Name: positive_labels, Length: 2041789, dtype: bool\n",
      "        # YTID  start_seconds  end_seconds  \\\n",
      "0  ---1_cCGK4M            0.0         10.0   \n",
      "1  ---2_BBVHAA           30.0         40.0   \n",
      "2  ---B_v8ZoBY           30.0         40.0   \n",
      "3  ---EDNidJUA           30.0         40.0   \n",
      "4  ---N4cFAE1A           21.0         31.0   \n",
      "5  ---fcVQUf3E           30.0         40.0   \n",
      "6  ---g9OGAhwc           30.0         40.0   \n",
      "7  ---lTs1dxhU           30.0         40.0   \n",
      "8  ---mO--kRQk           30.0         40.0   \n",
      "9  ---qub7uxgs           30.0         40.0   \n",
      "\n",
      "                                     positive_labels  new_field  \n",
      "0  /m/01g50p,/m/0284vy3,/m/06d_3,/m/07jdr,/m/07rwm0c      False  \n",
      "1                                           /m/09x0r      False  \n",
      "2                                           /m/04rlf      False  \n",
      "3              /m/02qldy,/m/02zsn,/m/05zppz,/m/09x0r      False  \n",
      "4                                  /m/04rlf,/m/09x0r      False  \n",
      "5                                  /m/019jd,/m/07yv9      False  \n",
      "6                                  /m/04rlf,/m/0c1dj      False  \n",
      "7              /m/012f08,/m/07yv9,/m/0k4j,/t/dd00134      False  \n",
      "8                                           /m/04rlf      False  \n",
      "9                                           /m/09x0r      False  \n",
      "2041789\n"
     ]
    }
   ],
   "source": [
    "subset_labels = pd.read_csv('Data/class_labels_reqd_latest_4.csv',names=['num','label','description']) ## CSV file includes the classes\n",
    "# which are to be considered \n",
    "print(subset_labels)\n",
    "l_str = '|'.join(subset_labels['label'].values)\n",
    "print(l_str)\n",
    "labels['new_field'] = (labels['positive_labels'].str.contains(l_str))\n",
    "print(labels['positive_labels'].str.contains(l_str))\n",
    "print(labels[:10])\n",
    "print(len(labels))"
   ]
  },
  {
   "cell_type": "code",
   "execution_count": 14,
   "metadata": {},
   "outputs": [
    {
     "name": "stdout",
     "output_type": "stream",
     "text": [
      "        # YTID  start_seconds  end_seconds  \\\n",
      "0  --4gqARaEJE            0.0         10.0   \n",
      "1  --BfvyPmVMo           20.0         30.0   \n",
      "2  --U7joUcTCo            0.0         10.0   \n",
      "\n",
      "                         positive_labels  \n",
      "0  /m/068hy,/m/07q6cd_,/m/0bt9lr,/m/0jbk  \n",
      "1                               /m/03l9g  \n",
      "2                              /m/01b_21  \n",
      "        # YTID  start_seconds  end_seconds  \\\n",
      "0  --4gqARaEJE            0.0         10.0   \n",
      "1  --BfvyPmVMo           20.0         30.0   \n",
      "2  --U7joUcTCo            0.0         10.0   \n",
      "\n",
      "                         positive_labels  new_field  \n",
      "0  /m/068hy,/m/07q6cd_,/m/0bt9lr,/m/0jbk      False  \n",
      "1                               /m/03l9g      False  \n",
      "2                              /m/01b_21      False  \n",
      "         # YTID  start_seconds  end_seconds                positive_labels  \\\n",
      "5   -0CamVQdP_Y            0.0          6.0   /m/04rlf,/m/07pbtc8,/m/09x0r   \n",
      "26  -1pRmoJIGQc           10.0         20.0  /m/01h82_,/m/02mk9,/m/07pb8fc   \n",
      "35  -3-JjN3BXjA           90.0        100.0            /m/09x0r,/t/dd00013   \n",
      "\n",
      "    new_field  \n",
      "5        True  \n",
      "26       True  \n",
      "35       True  \n",
      "1010\n",
      "1010\n"
     ]
    }
   ],
   "source": [
    "#### creation of evaluation set\n",
    "\n",
    "labels = pd.read_csv('Data/eval_segments.csv',header=2, quotechar=r'\"',skipinitialspace=True)\n",
    "print(labels[:3])\n",
    "labels['new_field'] = labels['positive_labels'].str.contains(l_str)\n",
    "print(labels[:3])\n",
    "positive = labels[labels['new_field']==True]\n",
    "print(positive[:3])\n",
    "positive.to_csv('Data/eval_training_subset.csv')\n",
    "print(positive.shape[0])\n",
    "\n",
    "###Download Audioset v1 embeddings from Audioset website: storage.googleapis.com/us_audioset/youtube_corpus/v1/features/features.tar.gz\n",
    "\n",
    "files = glob.glob('audioset_v1_embeddings/eval/*')\n",
    "subset_ids = positive['# YTID'].values\n",
    "print(len(subset_ids))"
   ]
  },
  {
   "cell_type": "code",
   "execution_count": 15,
   "metadata": {},
   "outputs": [
    {
     "name": "stdout",
     "output_type": "stream",
     "text": [
      "1010\n"
     ]
    }
   ],
   "source": [
    "i=0\n",
    "writer = tf.python_io.TFRecordWriter('Data/eval_subset_latest_4.tfrecord')\n",
    "for tfrecord in files:\n",
    "    for example in tf.python_io.tf_record_iterator(tfrecord):\n",
    "        tf_example = tf.train.Example.FromString(example)\n",
    "        vid_id = tf_example.features.feature['video_id'].bytes_list.value[0].decode(encoding = 'UTF-8')\n",
    "        if vid_id in subset_ids:\n",
    "            writer.write(example)\n",
    "            i+=1\n",
    "print(i)\n",
    "\n",
    "writer.close()"
   ]
  },
  {
   "cell_type": "code",
   "execution_count": 16,
   "metadata": {},
   "outputs": [
    {
     "name": "stdout",
     "output_type": "stream",
     "text": [
      "        # YTID  start_seconds  end_seconds  \\\n",
      "0  ---1_cCGK4M            0.0         10.0   \n",
      "1  ---2_BBVHAA           30.0         40.0   \n",
      "2  ---B_v8ZoBY           30.0         40.0   \n",
      "\n",
      "                                     positive_labels  \n",
      "0  /m/01g50p,/m/0284vy3,/m/06d_3,/m/07jdr,/m/07rwm0c  \n",
      "1                                           /m/09x0r  \n",
      "2                                           /m/04rlf  \n",
      "        # YTID  start_seconds  end_seconds  \\\n",
      "0  ---1_cCGK4M            0.0         10.0   \n",
      "1  ---2_BBVHAA           30.0         40.0   \n",
      "2  ---B_v8ZoBY           30.0         40.0   \n",
      "\n",
      "                                     positive_labels  new_field  \n",
      "0  /m/01g50p,/m/0284vy3,/m/06d_3,/m/07jdr,/m/07rwm0c      False  \n",
      "1                                           /m/09x0r      False  \n",
      "2                                           /m/04rlf      False  \n",
      "          # YTID  start_seconds  end_seconds  \\\n",
      "55   --2XRMjyizo            0.0         10.0   \n",
      "62   --330hg-Ocw           30.0         40.0   \n",
      "111  --65x-naOz0           30.0         40.0   \n",
      "\n",
      "                                     positive_labels  new_field  \n",
      "55                     /m/015p6,/m/020bb7,/m/07pggtn       True  \n",
      "62   /m/02mk9,/m/07yv9,/m/0k4j,/t/dd00066,/t/dd00130       True  \n",
      "111                                       /t/dd00066       True  \n",
      "49691\n",
      "49691\n"
     ]
    }
   ],
   "source": [
    "### creation of training set\n",
    "\n",
    "labels = pd.read_csv('Data/unbalanced_train_segments.csv',header=2, quotechar=r'\"',skipinitialspace=True)\n",
    "print(labels[:3])\n",
    "labels['new_field'] = labels['positive_labels'].str.contains(l_str)\n",
    "print(labels[:3])\n",
    "positive = labels[labels['new_field']==True]\n",
    "print(positive[:3])\n",
    "positive.to_csv('Data/train_training_subset.csv')\n",
    "print(positive.shape[0])\n",
    "\n",
    "files = glob.glob('audioset_v1_embeddings/unbal_train/*')\n",
    "subset_ids = positive['# YTID'].values\n",
    "print(len(subset_ids))"
   ]
  },
  {
   "cell_type": "code",
   "execution_count": 17,
   "metadata": {},
   "outputs": [
    {
     "ename": "KeyboardInterrupt",
     "evalue": "",
     "output_type": "error",
     "traceback": [
      "\u001b[0;31m---------------------------------------------------------------------------\u001b[0m",
      "\u001b[0;31mKeyboardInterrupt\u001b[0m                         Traceback (most recent call last)",
      "\u001b[0;32m<ipython-input-17-99989a0f2c88>\u001b[0m in \u001b[0;36m<module>\u001b[0;34m()\u001b[0m\n\u001b[1;32m      5\u001b[0m         \u001b[0mtf_example\u001b[0m \u001b[0;34m=\u001b[0m \u001b[0mtf\u001b[0m\u001b[0;34m.\u001b[0m\u001b[0mtrain\u001b[0m\u001b[0;34m.\u001b[0m\u001b[0mExample\u001b[0m\u001b[0;34m.\u001b[0m\u001b[0mFromString\u001b[0m\u001b[0;34m(\u001b[0m\u001b[0mexample\u001b[0m\u001b[0;34m)\u001b[0m\u001b[0;34m\u001b[0m\u001b[0;34m\u001b[0m\u001b[0m\n\u001b[1;32m      6\u001b[0m         \u001b[0mvid_id\u001b[0m \u001b[0;34m=\u001b[0m \u001b[0mtf_example\u001b[0m\u001b[0;34m.\u001b[0m\u001b[0mfeatures\u001b[0m\u001b[0;34m.\u001b[0m\u001b[0mfeature\u001b[0m\u001b[0;34m[\u001b[0m\u001b[0;34m'video_id'\u001b[0m\u001b[0;34m]\u001b[0m\u001b[0;34m.\u001b[0m\u001b[0mbytes_list\u001b[0m\u001b[0;34m.\u001b[0m\u001b[0mvalue\u001b[0m\u001b[0;34m[\u001b[0m\u001b[0;36m0\u001b[0m\u001b[0;34m]\u001b[0m\u001b[0;34m.\u001b[0m\u001b[0mdecode\u001b[0m\u001b[0;34m(\u001b[0m\u001b[0mencoding\u001b[0m \u001b[0;34m=\u001b[0m \u001b[0;34m'UTF-8'\u001b[0m\u001b[0;34m)\u001b[0m\u001b[0;34m\u001b[0m\u001b[0;34m\u001b[0m\u001b[0m\n\u001b[0;32m----> 7\u001b[0;31m         \u001b[0;32mif\u001b[0m \u001b[0mvid_id\u001b[0m \u001b[0;32min\u001b[0m \u001b[0msubset_ids\u001b[0m\u001b[0;34m:\u001b[0m\u001b[0;34m\u001b[0m\u001b[0;34m\u001b[0m\u001b[0m\n\u001b[0m\u001b[1;32m      8\u001b[0m             \u001b[0mwriter\u001b[0m\u001b[0;34m.\u001b[0m\u001b[0mwrite\u001b[0m\u001b[0;34m(\u001b[0m\u001b[0mexample\u001b[0m\u001b[0;34m)\u001b[0m\u001b[0;34m\u001b[0m\u001b[0;34m\u001b[0m\u001b[0m\n\u001b[1;32m      9\u001b[0m             \u001b[0mi\u001b[0m\u001b[0;34m+=\u001b[0m\u001b[0;36m1\u001b[0m\u001b[0;34m\u001b[0m\u001b[0;34m\u001b[0m\u001b[0m\n",
      "\u001b[0;31mKeyboardInterrupt\u001b[0m: "
     ]
    }
   ],
   "source": [
    "i=0\n",
    "writer = tf.python_io.TFRecordWriter('Data/train_subset_latest_4.tfrecord')\n",
    "for tfrecord in files:\n",
    "    for example in tf.python_io.tf_record_iterator(tfrecord):\n",
    "        tf_example = tf.train.Example.FromString(example)\n",
    "        vid_id = tf_example.features.feature['video_id'].bytes_list.value[0].decode(encoding = 'UTF-8')\n",
    "        if vid_id in subset_ids:\n",
    "            writer.write(example)\n",
    "            i+=1\n",
    "print(i)\n",
    "\n",
    "writer.close()"
   ]
  },
  {
   "cell_type": "code",
   "execution_count": null,
   "metadata": {},
   "outputs": [],
   "source": []
  }
 ],
 "metadata": {
  "kernelspec": {
   "display_name": "Python 3",
   "language": "python",
   "name": "python3"
  },
  "language_info": {
   "codemirror_mode": {
    "name": "ipython",
    "version": 3
   },
   "file_extension": ".py",
   "mimetype": "text/x-python",
   "name": "python",
   "nbconvert_exporter": "python",
   "pygments_lexer": "ipython3",
   "version": "3.6.7"
  }
 },
 "nbformat": 4,
 "nbformat_minor": 2
}
